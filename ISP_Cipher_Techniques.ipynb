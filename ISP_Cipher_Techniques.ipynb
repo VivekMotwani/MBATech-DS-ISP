{
  "nbformat": 4,
  "nbformat_minor": 0,
  "metadata": {
    "colab": {
      "provenance": [],
      "toc_visible": true
    },
    "kernelspec": {
      "name": "python3",
      "display_name": "Python 3"
    },
    "language_info": {
      "name": "python"
    }
  },
  "cells": [
    {
      "cell_type": "markdown",
      "source": [
        "# Substitutuion Cipher Encrytion and Decryption"
      ],
      "metadata": {
        "id": "sDncGk9fjB2i"
      }
    },
    {
      "cell_type": "code",
      "execution_count": null,
      "metadata": {
        "colab": {
          "base_uri": "https://localhost:8080/"
        },
        "id": "gie_F24nWacc",
        "outputId": "9265604f-2491-4e09-8813-8729e264b4b2"
      },
      "outputs": [
        {
          "output_type": "stream",
          "name": "stdout",
          "text": [
            "Enter the Text: ABC\n",
            "Enter the Key: 3\n",
            "\n",
            "Original char:  A\n",
            "Corresponding char:  D\n",
            "-----------\n",
            "Original char:  B\n",
            "Corresponding char:  E\n",
            "-----------\n",
            "Original char:  C\n",
            "Corresponding char:  F\n",
            "-----------\n",
            "Final Result:  DEF\n"
          ]
        }
      ],
      "source": [
        "#Substitution Cipher Decryption for Upper Case\n",
        "\n",
        "#Step1: Taking Inputs\n",
        "text=str(input(\"Enter the Text: \"))\n",
        "shift=int(input(\"Enter the Key: \"))\n",
        "result=''\n",
        "print()\n",
        "\n",
        "#Step 2: Traverse\n",
        "for i in range(len(text)):\n",
        "  char=text[i]\n",
        "  print(\"Original char: \",char)\n",
        "  result = result + chr((ord(char) + shift - 65) % 26 + 65)      # ord() gives the ASCII Value\n",
        "  print(\"Corresponding char: \",result[i])\n",
        "  print(\"-----------\")\n",
        "\n",
        "print(\"Final Result: \",result)\n"
      ]
    },
    {
      "cell_type": "code",
      "source": [
        "#Substitution Cipher Decryption for Lower Case\n",
        "\n",
        "#Step1: Taking Inputs\n",
        "text=str(input(\"Enter the Text: \"))\n",
        "shift=int(input(\"Enter the Key: \"))\n",
        "result=''\n",
        "print()\n",
        "\n",
        "#Step 2: Traverse\n",
        "for i in range(len(text)):\n",
        "  char=text[i]\n",
        "  print(\"Original char: \",char)\n",
        "  result = result + chr((ord(char) + shift - 97) % 26 + 97)      # ord() gives the ASCII Value\n",
        "  print(\"Corresponding char: \",result[i])\n",
        "  print(\"-----------\")\n",
        "\n",
        "print(\"Final Result: \",result)\n"
      ],
      "metadata": {
        "colab": {
          "base_uri": "https://localhost:8080/"
        },
        "id": "pFDLbx1XqqoA",
        "outputId": "1917bb35-211c-4cc8-d9bb-e3d3d36818f8"
      },
      "execution_count": null,
      "outputs": [
        {
          "output_type": "stream",
          "name": "stdout",
          "text": [
            "Enter the Text: abc\n",
            "Enter the Key: 3\n",
            "\n",
            "Original char:  a\n",
            "Corresponding char:  d\n",
            "-----------\n",
            "Original char:  b\n",
            "Corresponding char:  e\n",
            "-----------\n",
            "Original char:  c\n",
            "Corresponding char:  f\n",
            "-----------\n",
            "Final Result:  def\n"
          ]
        }
      ]
    },
    {
      "cell_type": "code",
      "source": [
        "\"\"\"\n",
        "FOR encription do \n",
        "- shift \n",
        "OR\n",
        "shift = shift - 3\n",
        "\"\"\""
      ],
      "metadata": {
        "id": "iG5He-Unho5o"
      },
      "execution_count": null,
      "outputs": []
    },
    {
      "cell_type": "markdown",
      "source": [
        "# Vernam Cipher in Cryptography"
      ],
      "metadata": {
        "id": "fZkTVYLckPgW"
      }
    },
    {
      "cell_type": "code",
      "source": [
        "plain_text = input(\"Enter the message: \")\n",
        "key = input(\"Enter the one time pad: \")\n",
        "cipher_text = ''"
      ],
      "metadata": {
        "colab": {
          "base_uri": "https://localhost:8080/"
        },
        "id": "VN19KvuekXf1",
        "outputId": "2a2fb3b0-8f90-4b91-c011-71b75fbdda86"
      },
      "execution_count": null,
      "outputs": [
        {
          "name": "stdout",
          "output_type": "stream",
          "text": [
            "Enter the message: Good morning\n",
            "Enter the one time pad: Quantum King\n"
          ]
        }
      ]
    },
    {
      "cell_type": "code",
      "source": [
        "plain_text = plain_text.replace(\" \",'')\n",
        "key = key.replace(' ','')\n",
        "\n",
        "plain_text = plain_text.lower()\n",
        "key = key.lower()"
      ],
      "metadata": {
        "id": "Y2yRdaS_l1dN"
      },
      "execution_count": null,
      "outputs": []
    },
    {
      "cell_type": "code",
      "source": [
        "if (len(plain_text)!=len(key)):\n",
        "  print('Lengths are different')\n",
        "else:\n",
        "  print(\"Lengths Equal\")"
      ],
      "metadata": {
        "colab": {
          "base_uri": "https://localhost:8080/"
        },
        "id": "Y_E6bXA-mM5X",
        "outputId": "79e07a8b-aed3-4f9c-b427-a83b5824d40a"
      },
      "execution_count": null,
      "outputs": [
        {
          "output_type": "stream",
          "name": "stdout",
          "text": [
            "Lengths Equal\n"
          ]
        }
      ]
    },
    {
      "cell_type": "code",
      "source": [
        "#LOGIC\n",
        "\n",
        "for i in range(len(plain_text)):\n",
        "  k1 = ord(plain_text[i]) - 97     # Getting inout ASCII value for Lower\n",
        "  k2 = ord(key[i]) - 97            # Getting key ASCII value for lower\n",
        "  s = chr ((k1 + k2) % 26 + 97)    # (k1 + k2) % 26 for lower\n",
        "  cipher_text +=s                  # Forming the Cipher text \n",
        "\n",
        "print(\"Encrypted Cipher text is: \",cipher_text)"
      ],
      "metadata": {
        "colab": {
          "base_uri": "https://localhost:8080/"
        },
        "id": "AW7xzckipUlG",
        "outputId": "b838b5d2-75fb-42a6-86bb-d6ce930b2795"
      },
      "execution_count": null,
      "outputs": [
        {
          "output_type": "stream",
          "name": "stdout",
          "text": [
            "Encrypted Cipher text is:  wioqfidxqam\n"
          ]
        }
      ]
    },
    {
      "cell_type": "code",
      "source": [
        "#Function for Vernam Cipher\n",
        "def vernam_encrypt(plain_text, key):\n",
        "  plain_text = plain_text.replace(\" \",'')\n",
        "  key = key.replace(' ','')\n",
        "\n",
        "  plain_text = plain_text.lower()\n",
        "  key = key.lower()\n",
        "\n",
        "  if (len(plain_text)!=len(key)):\n",
        "    print('Lengths are different')\n",
        "  else:\n",
        "    cipher_text = ''\n",
        "\n",
        "    for i in range(len(plain_text)):\n",
        "      k1 = ord(plain_text[i]) - 97     # Getting inout ASCII value for Lower\n",
        "      k2 = ord(key[i]) - 97            # Getting key ASCII value for lower\n",
        "      s = chr ((k1 + k2) % 26 + 97)    # (k1 + k2) % 26 for lower\n",
        "      cipher_text +=s                  # Forming the Cipher text \n",
        "\n",
        "    return cipher_text\n",
        "\n",
        "#Inputs\n",
        "plain_text = input(\"Enter the message: \")\n",
        "key = input(\"Enter the one time pad: \")\n",
        "cipher_text = vernam_encrypt(plain_text, key)\n",
        "\n",
        "#Output\n",
        "\n",
        "print(\"Encrypted Cipher text is: \",cipher_text)"
      ],
      "metadata": {
        "colab": {
          "base_uri": "https://localhost:8080/"
        },
        "id": "yRpsU4Lnp8Bp",
        "outputId": "4c8c4663-ea4b-4d6a-81b3-293c3cc10459"
      },
      "execution_count": null,
      "outputs": [
        {
          "output_type": "stream",
          "name": "stdout",
          "text": [
            "Enter the message: Good Morning\n",
            "Enter the one time pad: Quantum King\n",
            "Encrypted Cipher text is:  wioqfidxqam\n"
          ]
        }
      ]
    },
    {
      "cell_type": "code",
      "source": [
        "#Decryption\n",
        "\n",
        "#Function for Vernam Cipher\n",
        "def vernam_decrypt(cipher_text, key):\n",
        "  cipher_text = cipher_text.replace(\" \",'')\n",
        "  key = key.replace(' ','')\n",
        "\n",
        "  cipher_text = cipher_text.lower()\n",
        "  key = key.lower()\n",
        "  if (len(cipher_text)!=len(key)):\n",
        "    print('Lengths are different')\n",
        "  else:\n",
        "    plain_text = ''\n",
        "    \n",
        "    for i in range(len(cipher_text)):\n",
        "      k1 = ord(cipher_text[i]) - 97     # Getting inout ASCII value for Lower\n",
        "      k2 = ord(key[i]) - 97            # Getting key ASCII value for lower\n",
        "      s = chr ((k1 - k2) % 26 + 97)    # (k1 + k2) % 26 for lower\n",
        "      plain_text +=s                  # Forming the Cipher text \n",
        "\n",
        "    return plain_text\n",
        "\n",
        "#Inputs\n",
        "cipher_text = input(\"Enter the message: \")\n",
        "key = input(\"Enter the one time pad: \")\n",
        "plain_text = vernam_decrypt(cipher_text, key)\n",
        "\n",
        "#Output\n",
        "\n",
        "print(\"Encrypted Cipher text is: \",plain_text)"
      ],
      "metadata": {
        "colab": {
          "base_uri": "https://localhost:8080/"
        },
        "id": "k_IkxDw8rtMN",
        "outputId": "1d71af26-2425-41d4-efd8-db54063485ba"
      },
      "execution_count": null,
      "outputs": [
        {
          "output_type": "stream",
          "name": "stdout",
          "text": [
            "Enter the message: wioqfidxqam\n",
            "Enter the one time pad: Quantum King\n",
            "Encrypted Cipher text is:  goodmorning\n"
          ]
        }
      ]
    },
    {
      "cell_type": "markdown",
      "source": [
        "# Keyword Cipher"
      ],
      "metadata": {
        "id": "F9ucKybucbWc"
      }
    },
    {
      "cell_type": "code",
      "source": [
        "# Taking inputs\n",
        "\n",
        "message = input(\"Enter the message: \")\n",
        "keyword = input(\"Enter the keyword: \")\n",
        "ciphertext = ''"
      ],
      "metadata": {
        "colab": {
          "base_uri": "https://localhost:8080/"
        },
        "id": "XACH3CixiHfs",
        "outputId": "2a14b85a-a847-46c8-9e48-2efd42e513b3"
      },
      "execution_count": null,
      "outputs": [
        {
          "name": "stdout",
          "output_type": "stream",
          "text": [
            "Enter the message: Attack at dawn\n",
            "Enter the keyword: Star War\n"
          ]
        }
      ]
    },
    {
      "cell_type": "code",
      "source": [
        "# Plain text =  A B C D E F G H I J K L M N O P Q R S T U V W X Y Z\n",
        "# Key word   =  S T A R W B C D E F G H I J K L M N O P Q U V X Y Z\n",
        "\n",
        "# CIPHER TEXT ==> SPPSAG SP RSVJ\n",
        "\n",
        "# Forming the plain text list\n",
        "all_alphabets = []\n",
        "for i in range(65,91):\n",
        "  all_alphabets.append(chr(i))\n",
        "\n",
        "print(all_alphabets)"
      ],
      "metadata": {
        "colab": {
          "base_uri": "https://localhost:8080/"
        },
        "id": "Mgc2MXa5rF9d",
        "outputId": "5de1fef9-7bb1-4279-dd1f-853e46792768"
      },
      "execution_count": null,
      "outputs": [
        {
          "output_type": "stream",
          "name": "stdout",
          "text": [
            "['A', 'B', 'C', 'D', 'E', 'F', 'G', 'H', 'I', 'J', 'K', 'L', 'M', 'N', 'O', 'P', 'Q', 'R', 'S', 'T', 'U', 'V', 'W', 'X', 'Y', 'Z']\n"
          ]
        }
      ]
    },
    {
      "cell_type": "code",
      "source": [
        "# Converting message to list\n",
        "\n",
        "msg = []\n",
        "for i in message:\n",
        "  msg.append(i.upper()) \n",
        "\n",
        "print(msg) "
      ],
      "metadata": {
        "colab": {
          "base_uri": "https://localhost:8080/"
        },
        "id": "i4te9EfNroxo",
        "outputId": "b73f8277-d989-4532-d8f3-faa5022f9f90"
      },
      "execution_count": null,
      "outputs": [
        {
          "output_type": "stream",
          "name": "stdout",
          "text": [
            "['A', 'T', 'T', 'A', 'C', 'K', ' ', 'A', 'T', ' ', 'D', 'A', 'W', 'N']\n"
          ]
        }
      ]
    },
    {
      "cell_type": "code",
      "source": [
        "keyword1 = keyword.upper()"
      ],
      "metadata": {
        "id": "pUEOCJgHswv8"
      },
      "execution_count": null,
      "outputs": []
    },
    {
      "cell_type": "code",
      "source": [
        "# remove default elements\n",
        "# remove duplicates\n",
        "\n",
        "def duplicates(list):\n",
        "  key = []\n",
        "  for i in list:\n",
        "    if i not in key:\n",
        "      key.append(i)\n",
        "\n",
        "  return key"
      ],
      "metadata": {
        "id": "PWgAqGiLtcuy"
      },
      "execution_count": null,
      "outputs": []
    },
    {
      "cell_type": "code",
      "source": [
        "# key = []\n",
        "\n",
        "keyword1 = duplicates(keyword1)\n",
        "print(\"Keyword after removing duplicates: \",keyword1)\n",
        "\n",
        "# Stores the encryption list\n",
        "encrypting = duplicates(keyword1 + all_alphabets)\n",
        "print(\"Encrypting text is: \", encrypting)\n",
        "\n",
        "# removes spaces from the encryption list\n",
        "for i in encrypting:\n",
        "  if(i == ' '):\n",
        "    encrypting.remove(' ')\n",
        "\n",
        "print(\"Final encryption list: \", encrypting)"
      ],
      "metadata": {
        "colab": {
          "base_uri": "https://localhost:8080/"
        },
        "id": "-1bHcpRUuRZt",
        "outputId": "4b895b1d-6865-498b-8b25-d85829818c5b"
      },
      "execution_count": null,
      "outputs": [
        {
          "output_type": "stream",
          "name": "stdout",
          "text": [
            "Keyword after removing duplicates:  ['S', 'T', 'A', 'R', ' ', 'W']\n",
            "Encrypting text is:  ['S', 'T', 'A', 'R', ' ', 'W', 'B', 'C', 'D', 'E', 'F', 'G', 'H', 'I', 'J', 'K', 'L', 'M', 'N', 'O', 'P', 'Q', 'U', 'V', 'X', 'Y', 'Z']\n",
            "Final encryption list:  ['S', 'T', 'A', 'R', 'W', 'B', 'C', 'D', 'E', 'F', 'G', 'H', 'I', 'J', 'K', 'L', 'M', 'N', 'O', 'P', 'Q', 'U', 'V', 'X', 'Y', 'Z']\n"
          ]
        }
      ]
    },
    {
      "cell_type": "code",
      "source": [
        "# mapping each plain text to encryption list\n",
        "\n",
        "for i in range(len(msg)):\n",
        "  if(msg[i] != ' '):\n",
        "    ciphertext = ciphertext + encrypting[all_alphabets.index(msg[i])]\n",
        "  else:\n",
        "    ciphertext = ciphertext + ' '\n",
        "\n"
      ],
      "metadata": {
        "id": "rXKrqcNMw9Qq"
      },
      "execution_count": null,
      "outputs": []
    },
    {
      "cell_type": "code",
      "source": [
        "print(\"Keyword: \", keyword)\n",
        "print(\"Message before encrypting: \", message)\n",
        "print(\"Message after encrypting: \", ciphertext)"
      ],
      "metadata": {
        "colab": {
          "base_uri": "https://localhost:8080/"
        },
        "id": "QNmtqZYGyUWY",
        "outputId": "8c0906fd-fe1f-497d-e6af-ceb3497458e1"
      },
      "execution_count": null,
      "outputs": [
        {
          "output_type": "stream",
          "name": "stdout",
          "text": [
            "Keyword:  Star War\n",
            "Message before encrypting:  Attack at dawn\n",
            "Message after encrypting:  SPPSAG SP RSVJ\n"
          ]
        }
      ]
    },
    {
      "cell_type": "code",
      "source": [
        "# Writing the encrpting function\n",
        "\n"
      ],
      "metadata": {
        "id": "nh7WH6oFylDN"
      },
      "execution_count": null,
      "outputs": []
    },
    {
      "cell_type": "code",
      "source": [
        "message=\"\"\n",
        "\n",
        "all_alphabats = []\n"
      ],
      "metadata": {
        "id": "84HbO8D1gNLW"
      },
      "execution_count": null,
      "outputs": []
    }
  ]
}