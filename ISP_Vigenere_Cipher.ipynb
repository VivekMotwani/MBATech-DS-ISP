{
  "nbformat": 4,
  "nbformat_minor": 0,
  "metadata": {
    "colab": {
      "provenance": [],
      "toc_visible": true
    },
    "kernelspec": {
      "name": "python3",
      "display_name": "Python 3"
    },
    "language_info": {
      "name": "python"
    }
  },
  "cells": [
    {
      "cell_type": "markdown",
      "source": [
        "# Vigenere Cipher"
      ],
      "metadata": {
        "id": "gInVPqlkopx-"
      }
    },
    {
      "cell_type": "code",
      "execution_count": null,
      "metadata": {
        "colab": {
          "base_uri": "https://localhost:8080/"
        },
        "id": "kxSWPb7Eomm8",
        "outputId": "38c936bb-f2bf-425c-a80d-d5f48000d5d5"
      },
      "outputs": [
        {
          "name": "stdout",
          "output_type": "stream",
          "text": [
            "Enter the string: GEEKSFORGEEKS\n",
            "Enter the key: MAYUR\n"
          ]
        }
      ],
      "source": [
        "string = input(\"Enter the string: \")\n",
        "key = input(\"Enter the key: \")"
      ]
    },
    {
      "cell_type": "code",
      "source": [
        "def generateKey(string, key):\n",
        "  key = list(key)\n",
        "  if(len(string) == len(key)):\n",
        "    return key\n",
        "  else:\n",
        "    for i in range(len(string) - len(key)):\n",
        "      key.append(key[i % len(key)])\n",
        "    return (''.join(key))\n",
        "\n",
        "key = generateKey(string, key)\n",
        "key"
      ],
      "metadata": {
        "colab": {
          "base_uri": "https://localhost:8080/",
          "height": 37
        },
        "id": "NIKHmKKVpK05",
        "outputId": "9259b639-2d9c-4cb1-b1cb-c35c7aac2a73"
      },
      "execution_count": null,
      "outputs": [
        {
          "output_type": "execute_result",
          "data": {
            "text/plain": [
              "'MAYURMAYURMAY'"
            ],
            "application/vnd.google.colaboratory.intrinsic+json": {
              "type": "string"
            }
          },
          "metadata": {},
          "execution_count": 4
        }
      ]
    },
    {
      "cell_type": "code",
      "source": [
        "def encrypt_cipherText(string, key):\n",
        "  cipher_text = []\n",
        "  for i in range(len(string)):\n",
        "    x = ((ord(string[i]) + ord(key[i])) % 26) + ord('A')\n",
        "    cipher_text.append(chr(x))\n",
        "  return (\"\".join(cipher_text))"
      ],
      "metadata": {
        "id": "UMBFL-NyqPpG"
      },
      "execution_count": null,
      "outputs": []
    },
    {
      "cell_type": "code",
      "source": [
        "print(\"String: \", str(string))\n",
        "print(\"Key: \", str(key))\n",
        "cipher_text = encrypt_cipherText(string, key)\n",
        "print(\"Cipher Text: \", str(cipher_text))"
      ],
      "metadata": {
        "colab": {
          "base_uri": "https://localhost:8080/"
        },
        "id": "HVigMAWKtxsn",
        "outputId": "e741f2f9-318d-4072-e71f-23495fecc4f9"
      },
      "execution_count": null,
      "outputs": [
        {
          "output_type": "stream",
          "name": "stdout",
          "text": [
            "String:  GEEKSFORGEEKS\n",
            "Key:  MAYURMAYURMAY\n",
            "Cipher Text:  SECEJROPAVQKQ\n"
          ]
        }
      ]
    },
    {
      "cell_type": "code",
      "source": [
        "def decrypt_cipherText(cipher_text, key):\n",
        "  ori_text = []\n",
        "  for i in range(len(cipher_text)):\n",
        "    x = ((ord(cipher_text[i]) - ord(key[i])) % 26) + ord('A')\n",
        "    ori_text.append(chr(x))\n",
        "  return (\"\".join(ori_text))"
      ],
      "metadata": {
        "id": "p0yMyEkct-Yb"
      },
      "execution_count": null,
      "outputs": []
    },
    {
      "cell_type": "code",
      "source": [
        "print(\"Cipher Text: \", str(cipher_text))\n",
        "print(\"Key: \", str(key))\n",
        "ori_text = decrypt_cipherText(cipher_text, key)\n",
        "print(\"Original Text: \", str(ori_text))"
      ],
      "metadata": {
        "colab": {
          "base_uri": "https://localhost:8080/"
        },
        "id": "5j4fwOqs13tg",
        "outputId": "19ca2632-caa6-429a-9400-a3297cd1d041"
      },
      "execution_count": null,
      "outputs": [
        {
          "output_type": "stream",
          "name": "stdout",
          "text": [
            "Cipher Text:  SECEJROPAVQKQ\n",
            "Key:  MAYURMAYURMAY\n",
            "Original Text:  GEEKSFORGEEKS\n"
          ]
        }
      ]
    }
  ]
}